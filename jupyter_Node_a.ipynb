{
 "cells": [
  {
   "cell_type": "code",
   "execution_count": 1,
   "id": "cddba469",
   "metadata": {},
   "outputs": [
    {
     "ename": "ModuleNotFoundError",
     "evalue": "No module named 'rospy'",
     "output_type": "error",
     "traceback": [
      "\u001b[0;31m---------------------------------------------------------------------------\u001b[0m",
      "\u001b[0;31mModuleNotFoundError\u001b[0m                       Traceback (most recent call last)",
      "Cell \u001b[0;32mIn[1], line 1\u001b[0m\n\u001b[0;32m----> 1\u001b[0m \u001b[38;5;28;01mimport\u001b[39;00m \u001b[38;5;21;01mrospy\u001b[39;00m\n\u001b[1;32m      2\u001b[0m \u001b[38;5;28;01mfrom\u001b[39;00m \u001b[38;5;21;01mgeometry_msgs\u001b[39;00m\u001b[38;5;21;01m.\u001b[39;00m\u001b[38;5;21;01mmsg\u001b[39;00m \u001b[38;5;28;01mimport\u001b[39;00m PoseStamped \n\u001b[1;32m      3\u001b[0m \u001b[38;5;28;01mimport\u001b[39;00m \u001b[38;5;21;01mactionlib\u001b[39;00m\u001b[38;5;21;01m.\u001b[39;00m\u001b[38;5;21;01mmsg\u001b[39;00m \n",
      "\u001b[0;31mModuleNotFoundError\u001b[0m: No module named 'rospy'"
     ]
    }
   ],
   "source": [
    "import rospy\n",
    "import matplotlib.pyplot as plt\n",
    "from matplotlib.animation import FuncAnimation\n",
    "from IPython.display import display, clear_output\n",
    "from ipywidgets import Button, VBox, Output\n",
    "\n"
   ]
  },
  {
   "cell_type": "code",
   "execution_count": null,
   "id": "8d02233d",
   "metadata": {},
   "outputs": [],
   "source": [
    "robot_positions = []\n",
    "target_positions = []\n",
    "reached_targets = 0\n",
    "not_reached_targets = 0\n"
   ]
  },
  {
   "cell_type": "code",
   "execution_count": null,
   "id": "9ca197e9",
   "metadata": {},
   "outputs": [],
   "source": [
    "def callback(data):\n",
    "    global robot_positions\n",
    "    global target_positions\n",
    "    \n",
    "    robot_positions.append((data.pose.pose.position.x, data.pose.pose.position.y))\n",
    "    target_positions.append((data.goal.pose.position.x, data.goal.pose.position.y))\n"
   ]
  },
  {
   "cell_type": "markdown",
   "id": "3c0fcbc7",
   "metadata": {},
   "source": [
    "# my jupyter notebook\n",
    "## first notebook"
   ]
  },
  {
   "cell_type": "code",
   "execution_count": null,
   "id": "fa499e79",
   "metadata": {},
   "outputs": [],
   "source": [
    "robot_plot = ax.scatter([], [], color='blue', label='Robot Position')\n",
    "target_plot = ax.scatter([], [], color='red', label='Target Positions')\n",
    "ax.legend()\n",
    "\n"
   ]
  },
  {
   "cell_type": "code",
   "execution_count": 2,
   "id": "28f385fa",
   "metadata": {},
   "outputs": [
    {
     "ename": "NameError",
     "evalue": "name 'Output' is not defined",
     "output_type": "error",
     "traceback": [
      "\u001b[0;31m---------------------------------------------------------------------------\u001b[0m",
      "\u001b[0;31mNameError\u001b[0m                                 Traceback (most recent call last)",
      "Cell \u001b[0;32mIn[2], line 1\u001b[0m\n\u001b[0;32m----> 1\u001b[0m distance_output \u001b[38;5;241m=\u001b[39m \u001b[43mOutput\u001b[49m()\n",
      "\u001b[0;31mNameError\u001b[0m: name 'Output' is not defined"
     ]
    }
   ],
   "source": [
    "distance_output = Output()\n"
   ]
  },
  {
   "cell_type": "code",
   "execution_count": 3,
   "id": "4c6d82c7",
   "metadata": {},
   "outputs": [],
   "source": [
    "def update(frame):\n",
    "    global robot_positions\n",
    "    global target_positions\n",
    "    \n",
    "    robot_plot.set_offsets(robot_positions)\n",
    "    target_plot.set_offsets(target_positions)\n",
    "    return robot_plot, target_plot\n"
   ]
  },
  {
   "cell_type": "code",
   "execution_count": 4,
   "id": "bacd3456",
   "metadata": {},
   "outputs": [
    {
     "ename": "NameError",
     "evalue": "name 'Button' is not defined",
     "output_type": "error",
     "traceback": [
      "\u001b[0;31m---------------------------------------------------------------------------\u001b[0m",
      "\u001b[0;31mNameError\u001b[0m                                 Traceback (most recent call last)",
      "Cell \u001b[0;32mIn[4], line 1\u001b[0m\n\u001b[0;32m----> 1\u001b[0m button \u001b[38;5;241m=\u001b[39m \u001b[43mButton\u001b[49m(description\u001b[38;5;241m=\u001b[39m\u001b[38;5;124m'\u001b[39m\u001b[38;5;124mMove Robot\u001b[39m\u001b[38;5;124m'\u001b[39m)\n\u001b[1;32m      2\u001b[0m motion_output \u001b[38;5;241m=\u001b[39m Output()\n\u001b[1;32m      4\u001b[0m \u001b[38;5;28;01mdef\u001b[39;00m \u001b[38;5;21mmove_robot\u001b[39m(button):\n",
      "\u001b[0;31mNameError\u001b[0m: name 'Button' is not defined"
     ]
    }
   ],
   "source": [
    "button = Button(description='Move Robot')\n",
    "motion_output = Output()\n",
    "\n",
    "def move_robot(button):\n",
    "    with motion_output:\n",
    "        clear_output()\n",
    "        print('Moving the robot...')\n",
    "        # Add code here to control the robot's motion\n",
    "\n",
    "button.on_click(move_robot)\n"
   ]
  },
  {
   "cell_type": "code",
   "execution_count": 5,
   "id": "9af122f6",
   "metadata": {},
   "outputs": [
    {
     "ename": "NameError",
     "evalue": "name 'reached_targets' is not defined",
     "output_type": "error",
     "traceback": [
      "\u001b[0;31m---------------------------------------------------------------------------\u001b[0m",
      "\u001b[0;31mNameError\u001b[0m                                 Traceback (most recent call last)",
      "Cell \u001b[0;32mIn[5], line 1\u001b[0m\n\u001b[0;32m----> 1\u001b[0m target_stats \u001b[38;5;241m=\u001b[39m {\u001b[38;5;124m'\u001b[39m\u001b[38;5;124mReached\u001b[39m\u001b[38;5;124m'\u001b[39m: \u001b[43mreached_targets\u001b[49m, \u001b[38;5;124m'\u001b[39m\u001b[38;5;124mNot Reached\u001b[39m\u001b[38;5;124m'\u001b[39m: not_reached_targets}\n\u001b[1;32m      2\u001b[0m target_stats_plot \u001b[38;5;241m=\u001b[39m plt\u001b[38;5;241m.\u001b[39mfigure()\u001b[38;5;241m.\u001b[39madd_subplot()\n\u001b[1;32m      3\u001b[0m target_stats_plot\u001b[38;5;241m.\u001b[39mbar(target_stats\u001b[38;5;241m.\u001b[39mkeys(), target_stats\u001b[38;5;241m.\u001b[39mvalues())\n",
      "\u001b[0;31mNameError\u001b[0m: name 'reached_targets' is not defined"
     ]
    }
   ],
   "source": [
    "target_stats = {'Reached': reached_targets, 'Not Reached': not_reached_targets}\n",
    "target_stats_plot = plt.figure().add_subplot()\n",
    "target_stats_plot.bar(target_stats.keys(), target_stats.values())\n",
    "target_stats_plot.set_xlabel('Target Status')\n",
    "target_stats_plot.set_ylabel('Count')\n",
    "target_stats_plot.set_title('Reached/Not Reached Targets')\n"
   ]
  },
  {
   "cell_type": "code",
   "execution_count": 6,
   "id": "dc0d1ac5",
   "metadata": {},
   "outputs": [
    {
     "ename": "NameError",
     "evalue": "name 'VBox' is not defined",
     "output_type": "error",
     "traceback": [
      "\u001b[0;31m---------------------------------------------------------------------------\u001b[0m",
      "\u001b[0;31mNameError\u001b[0m                                 Traceback (most recent call last)",
      "Cell \u001b[0;32mIn[6], line 1\u001b[0m\n\u001b[0;32m----> 1\u001b[0m layout \u001b[38;5;241m=\u001b[39m \u001b[43mVBox\u001b[49m([button, motion_output, distance_output, fig, target_stats_plot])\n\u001b[1;32m      2\u001b[0m display(layout)\n",
      "\u001b[0;31mNameError\u001b[0m: name 'VBox' is not defined"
     ]
    }
   ],
   "source": [
    "layout = VBox([button, motion_output, distance_output, fig, target_stats_plot])\n",
    "display(layout)\n"
   ]
  },
  {
   "cell_type": "code",
   "execution_count": null,
   "id": "8fbd2aa9",
   "metadata": {},
   "outputs": [],
   "source": [
    "rospy.init_node('Node_a')\n",
    "rospy.Subscriber('/odom', Odometry, callback)\n",
    "\n",
    "animation = FuncAnimation(fig, update, frames=None, blit=True)\n"
   ]
  }
 ],
 "metadata": {
  "kernelspec": {
   "display_name": "Python 3 (ipykernel)",
   "language": "python",
   "name": "python3"
  },
  "language_info": {
   "codemirror_mode": {
    "name": "ipython",
    "version": 3
   },
   "file_extension": ".py",
   "mimetype": "text/x-python",
   "name": "python",
   "nbconvert_exporter": "python",
   "pygments_lexer": "ipython3",
   "version": "3.10.6"
  }
 },
 "nbformat": 4,
 "nbformat_minor": 5
}
